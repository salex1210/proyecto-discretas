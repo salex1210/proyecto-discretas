{
 "cells": [
  {
   "cell_type": "code",
   "execution_count": 2,
   "metadata": {},
   "outputs": [
    {
     "data": {
      "text/plain": [
       "''"
      ]
     },
     "execution_count": 2,
     "metadata": {},
     "output_type": "execute_result"
    }
   ],
   "source": [
    "from tkinter import Tk,Label,Button\n",
    "\n",
    "def mensaje():\n",
    "    print(\"Hola mundo\")\n",
    "\n",
    "ventana = Tk() #creando el objeto ventana a partir del contructor\n",
    "ventana.geometry(\"400x280\") #definiendo el tamaño de la ventana\n",
    "ventana.title(\"Home\") #Nombre de la ventana\n"
   ]
  }
 ],
 "metadata": {
  "kernelspec": {
   "display_name": "base",
   "language": "python",
   "name": "python3"
  },
  "language_info": {
   "codemirror_mode": {
    "name": "ipython",
    "version": 3
   },
   "file_extension": ".py",
   "mimetype": "text/x-python",
   "name": "python",
   "nbconvert_exporter": "python",
   "pygments_lexer": "ipython3",
   "version": "3.10.9"
  },
  "orig_nbformat": 4
 },
 "nbformat": 4,
 "nbformat_minor": 2
}
