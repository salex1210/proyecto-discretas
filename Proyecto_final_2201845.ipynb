{
  "cells": [
    {
      "cell_type": "code",
      "execution_count": 1,
      "metadata": {
        "colab": {
          "base_uri": "https://localhost:8080/"
        },
        "id": "ZDY78VWAgAk_",
        "outputId": "931a9884-3a15-4b21-fd66-88cd64e57315"
      },
      "outputs": [
        {
          "name": "stdout",
          "output_type": "stream",
          "text": [
            "Requirement already satisfied: mitdeeplearning in c:\\users\\gersonsanchez\\anaconda3\\lib\\site-packages (0.3.0)\n",
            "Requirement already satisfied: regex in c:\\users\\gersonsanchez\\anaconda3\\lib\\site-packages (from mitdeeplearning) (2022.7.9)\n",
            "Requirement already satisfied: numpy in c:\\users\\gersonsanchez\\anaconda3\\lib\\site-packages (from mitdeeplearning) (1.23.5)\n",
            "Requirement already satisfied: gym in c:\\users\\gersonsanchez\\anaconda3\\lib\\site-packages (from mitdeeplearning) (0.26.2)\n",
            "Requirement already satisfied: tqdm in c:\\users\\gersonsanchez\\anaconda3\\lib\\site-packages (from mitdeeplearning) (4.64.1)\n",
            "Requirement already satisfied: cloudpickle>=1.2.0 in c:\\users\\gersonsanchez\\anaconda3\\lib\\site-packages (from gym->mitdeeplearning) (2.0.0)\n",
            "Requirement already satisfied: gym-notices>=0.0.4 in c:\\users\\gersonsanchez\\anaconda3\\lib\\site-packages (from gym->mitdeeplearning) (0.0.8)\n",
            "Requirement already satisfied: colorama in c:\\users\\gersonsanchez\\anaconda3\\lib\\site-packages (from tqdm->mitdeeplearning) (0.4.6)\n",
            "Note: you may need to restart the kernel to use updated packages.\n"
          ]
        },
        {
          "ename": "ModuleNotFoundError",
          "evalue": "No module named 'cv2'",
          "output_type": "error",
          "traceback": [
            "\u001b[1;31m---------------------------------------------------------------------------\u001b[0m",
            "\u001b[1;31mModuleNotFoundError\u001b[0m                       Traceback (most recent call last)",
            "Cell \u001b[1;32mIn[1], line 6\u001b[0m\n\u001b[0;32m      3\u001b[0m \u001b[39mimport\u001b[39;00m \u001b[39mtensorflow\u001b[39;00m \u001b[39mas\u001b[39;00m \u001b[39mtf\u001b[39;00m\n\u001b[0;32m      5\u001b[0m get_ipython()\u001b[39m.\u001b[39mrun_line_magic(\u001b[39m'\u001b[39m\u001b[39mpip\u001b[39m\u001b[39m'\u001b[39m, \u001b[39m'\u001b[39m\u001b[39minstall mitdeeplearning\u001b[39m\u001b[39m'\u001b[39m)\n\u001b[1;32m----> 6\u001b[0m \u001b[39mimport\u001b[39;00m \u001b[39mmitdeeplearning\u001b[39;00m \u001b[39mas\u001b[39;00m \u001b[39mmdl\u001b[39;00m\n\u001b[0;32m      7\u001b[0m \u001b[39mimport\u001b[39;00m \u001b[39mrandom\u001b[39;00m\n\u001b[0;32m      8\u001b[0m \u001b[39mimport\u001b[39;00m \u001b[39mmatplotlib\u001b[39;00m\u001b[39m.\u001b[39;00m\u001b[39mpyplot\u001b[39;00m \u001b[39mas\u001b[39;00m \u001b[39mplt\u001b[39;00m\n",
            "File \u001b[1;32mc:\\Users\\GERSONSANCHEZ\\anaconda3\\lib\\site-packages\\mitdeeplearning\\__init__.py:4\u001b[0m\n\u001b[0;32m      1\u001b[0m \u001b[39mimport\u001b[39;00m \u001b[39mmitdeeplearning\u001b[39;00m\u001b[39m.\u001b[39;00m\u001b[39mutil\u001b[39;00m\n\u001b[0;32m      3\u001b[0m \u001b[39mimport\u001b[39;00m \u001b[39mmitdeeplearning\u001b[39;00m\u001b[39m.\u001b[39;00m\u001b[39mlab1\u001b[39;00m\n\u001b[1;32m----> 4\u001b[0m \u001b[39mimport\u001b[39;00m \u001b[39mmitdeeplearning\u001b[39;00m\u001b[39m.\u001b[39;00m\u001b[39mlab2\u001b[39;00m\n\u001b[0;32m      5\u001b[0m \u001b[39mimport\u001b[39;00m \u001b[39mmitdeeplearning\u001b[39;00m\u001b[39m.\u001b[39;00m\u001b[39mlab3\u001b[39;00m\n\u001b[0;32m      6\u001b[0m \u001b[39mimport\u001b[39;00m \u001b[39mmitdeeplearning\u001b[39;00m\u001b[39m.\u001b[39;00m\u001b[39mlab3_old\u001b[39;00m\n",
            "File \u001b[1;32mc:\\Users\\GERSONSANCHEZ\\anaconda3\\lib\\site-packages\\mitdeeplearning\\lab2.py:1\u001b[0m\n\u001b[1;32m----> 1\u001b[0m \u001b[39mimport\u001b[39;00m \u001b[39mcv2\u001b[39;00m\n\u001b[0;32m      2\u001b[0m \u001b[39mimport\u001b[39;00m \u001b[39mos\u001b[39;00m\n\u001b[0;32m      3\u001b[0m \u001b[39mimport\u001b[39;00m \u001b[39mmatplotlib\u001b[39;00m\u001b[39m.\u001b[39;00m\u001b[39mpyplot\u001b[39;00m \u001b[39mas\u001b[39;00m \u001b[39mplt\u001b[39;00m\n",
            "\u001b[1;31mModuleNotFoundError\u001b[0m: No module named 'cv2'"
          ]
        }
      ],
      "source": [
        "# importamos las librerias necesarias\n",
        "#tensorflow_version 2.x\n",
        "import tensorflow as tf\n",
        "\n",
        "#%pip install mitdeeplearning \n",
        "import mitdeeplearning as mdl\n",
        "import random\n",
        "import matplotlib.pyplot as plt\n",
        "import numpy as np\n",
        "import random\n",
        "from tqdm import tqdm\n",
        "#assert len(tf.config.list_physical_devices('GPU')) > 0"
      ]
    },
    {
      "cell_type": "code",
      "execution_count": 2,
      "metadata": {
        "colab": {
          "base_uri": "https://localhost:8080/"
        },
        "id": "8DFplZ6HhD5a",
        "outputId": "22002292-412a-434d-8c3f-e4304ce5a194"
      },
      "outputs": [],
      "source": [
        "#importamos los datos\n",
        "#from google.colab import drive\n",
        "#drive.mount('/content/drive')\n",
        "\n",
        "#Triangulos\n",
        "a1=np.load(r\"C:\\Users\\GERSONSANCHEZ\\OneDrive - UNIVERSIDAD INDUSTRIAL DE SANTANDER\\Documents\\2023-1\\TRATAMIENTO DE SEñALES DISCRETAS O1\\proyecto-discretas\\pruebastriangulo\\triangulo1.npy\")\n",
        "a2=np.load(r\"C:\\Users\\GERSONSANCHEZ\\OneDrive - UNIVERSIDAD INDUSTRIAL DE SANTANDER\\Documents\\2023-1\\TRATAMIENTO DE SEñALES DISCRETAS O1\\proyecto-discretas\\pruebastriangulo\\triangulo2.npy\")\n",
        "a3=np.load(r\"C:\\Users\\GERSONSANCHEZ\\OneDrive - UNIVERSIDAD INDUSTRIAL DE SANTANDER\\Documents\\2023-1\\TRATAMIENTO DE SEñALES DISCRETAS O1\\proyecto-discretas\\pruebastriangulo\\triangulo3.npy\")\n",
        "a4=np.load(r\"C:\\Users\\GERSONSANCHEZ\\OneDrive - UNIVERSIDAD INDUSTRIAL DE SANTANDER\\Documents\\2023-1\\TRATAMIENTO DE SEñALES DISCRETAS O1\\proyecto-discretas\\pruebastriangulo\\triangulo4.npy\")\n",
        "a5=np.load(r\"C:\\Users\\GERSONSANCHEZ\\OneDrive - UNIVERSIDAD INDUSTRIAL DE SANTANDER\\Documents\\2023-1\\TRATAMIENTO DE SEñALES DISCRETAS O1\\proyecto-discretas\\pruebastriangulo\\triangulo5.npy\")\n",
        "\n",
        "#Circulos\n",
        "a6=np.load(r'C:\\Users\\GERSONSANCHEZ\\OneDrive - UNIVERSIDAD INDUSTRIAL DE SANTANDER\\Documents\\2023-1\\TRATAMIENTO DE SEñALES DISCRETAS O1\\proyecto-discretas\\pruebascirculo\\circulos1.npy')\n",
        "a7=np.load(r'C:\\Users\\GERSONSANCHEZ\\OneDrive - UNIVERSIDAD INDUSTRIAL DE SANTANDER\\Documents\\2023-1\\TRATAMIENTO DE SEñALES DISCRETAS O1\\proyecto-discretas\\pruebascirculo\\circulos2.npy')\n",
        "a8=np.load(r'C:\\Users\\GERSONSANCHEZ\\OneDrive - UNIVERSIDAD INDUSTRIAL DE SANTANDER\\Documents\\2023-1\\TRATAMIENTO DE SEñALES DISCRETAS O1\\proyecto-discretas\\pruebascirculo\\circulos3.npy')\n",
        "a9=np.load(r'C:\\Users\\GERSONSANCHEZ\\OneDrive - UNIVERSIDAD INDUSTRIAL DE SANTANDER\\Documents\\2023-1\\TRATAMIENTO DE SEñALES DISCRETAS O1\\proyecto-discretas\\pruebascirculo\\circulos4.npy')\n",
        "a10=np.load(r'C:\\Users\\GERSONSANCHEZ\\OneDrive - UNIVERSIDAD INDUSTRIAL DE SANTANDER\\Documents\\2023-1\\TRATAMIENTO DE SEñALES DISCRETAS O1\\proyecto-discretas\\pruebascirculo\\circulos5.npy')\n",
        "\n",
        "#Rectangulos\n",
        "a11=np.load(r'C:\\Users\\GERSONSANCHEZ\\OneDrive - UNIVERSIDAD INDUSTRIAL DE SANTANDER\\Documents\\2023-1\\TRATAMIENTO DE SEñALES DISCRETAS O1\\proyecto-discretas\\pruebascuadrado\\rectangulo1.npy')\n",
        "a12=np.load(r'C:\\Users\\GERSONSANCHEZ\\OneDrive - UNIVERSIDAD INDUSTRIAL DE SANTANDER\\Documents\\2023-1\\TRATAMIENTO DE SEñALES DISCRETAS O1\\proyecto-discretas\\pruebascuadrado\\rectangulo2.npy')\n",
        "a13=np.load(r'C:\\Users\\GERSONSANCHEZ\\OneDrive - UNIVERSIDAD INDUSTRIAL DE SANTANDER\\Documents\\2023-1\\TRATAMIENTO DE SEñALES DISCRETAS O1\\proyecto-discretas\\pruebascuadrado\\rectangulo3.npy')\n",
        "a14=np.load(r'C:\\Users\\GERSONSANCHEZ\\OneDrive - UNIVERSIDAD INDUSTRIAL DE SANTANDER\\Documents\\2023-1\\TRATAMIENTO DE SEñALES DISCRETAS O1\\proyecto-discretas\\pruebascuadrado\\rectangulo4.npy')\n",
        "a15=np.load(r'C:\\Users\\GERSONSANCHEZ\\OneDrive - UNIVERSIDAD INDUSTRIAL DE SANTANDER\\Documents\\2023-1\\TRATAMIENTO DE SEñALES DISCRETAS O1\\proyecto-discretas\\pruebascuadrado\\rectangulo5.npy')\n",
        "\n",
        "\n",
        "#Unimos los radargramas de entrenamiento\n",
        "train_images=np.append(a1,a2)\n",
        "train_images=np.append(train_images,a3)\n",
        "train_images=np.append(train_images,a4)\n",
        "train_images=np.append(train_images,a6)\n",
        "train_images=np.append(train_images,a7)\n",
        "train_images=np.append(train_images,a8)\n",
        "train_images=np.append(train_images,a9)\n",
        "train_images=np.append(train_images,a11)\n",
        "train_images=np.append(train_images,a12)\n",
        "train_images=np.append(train_images,a13)\n",
        "train_images=np.append(train_images,a14)\n",
        "\n",
        "#Unimos los radargramas de prueba\n",
        "test_images=np.append(a5,a10)\n",
        "test_images=np.append(test_images,a15)"
      ]
    },
    {
      "cell_type": "code",
      "execution_count": 3,
      "metadata": {
        "colab": {
          "base_uri": "https://localhost:8080/",
          "height": 476
        },
        "id": "swUtWUqQjBtM",
        "outputId": "b7533bff-b967-47ae-c056-c325f80b3cf3"
      },
      "outputs": [
        {
          "name": "stdout",
          "output_type": "stream",
          "text": [
            "(96000000,)\n",
            "(2400, 200, 200)\n",
            "(600, 200, 200)\n"
          ]
        },
        {
          "data": {
            "image/png": "[encoded data removed]",
            "text/plain": [
              "<Figure size 640x480 with 1 Axes>"
            ]
          },
          "metadata": {},
          "output_type": "display_data"
        },
        {
          "data": {
            "text/plain": [
              "\"for i in range(600):\\n  plt.imshow(test_images[i,:,:], cmap='Blues')\\n  plt.axis('off')\\n  plt.show()\""
            ]
          },
          "execution_count": 3,
          "metadata": {},
          "output_type": "execute_result"
        }
      ],
      "source": [
        "print(train_images.shape)\n",
        "train_images=train_images.reshape(2400,200,200)\n",
        "test_images=test_images.reshape(600,200,200)\n",
        "print(train_images.shape)\n",
        "print(test_images.shape)\n",
        "plt.imshow(test_images[10,:,:], cmap='Blues')\n",
        "plt.axis('off')\n",
        "plt.show()\n",
        "'''for i in range(600):\n",
        "  plt.imshow(test_images[i,:,:], cmap='Blues')\n",
        "  plt.axis('off')\n",
        "  plt.show()'''"
      ]
    },
    {
      "cell_type": "code",
      "execution_count": 4,
      "metadata": {
        "colab": {
          "base_uri": "https://localhost:8080/"
        },
        "id": "_KHdnPxpmxJN",
        "outputId": "f9e53308-a67b-464e-9513-4154d2fcec08"
      },
      "outputs": [
        {
          "name": "stdout",
          "output_type": "stream",
          "text": [
            "(2400,) (600,)\n",
            "[0. 0. 0. ... 2. 2. 2.]\n"
          ]
        }
      ],
      "source": [
        "#Etiquetamos el entrenamiento\n",
        "a1=np.zeros(800)\n",
        "b1=np.ones(800)\n",
        "c1=np.full(800,2)\n",
        "train_labels = np.append(a1,b1)\n",
        "train_labels = np.append(train_labels,c1)\n",
        "#Etiquetamos las pruebas\n",
        "\n",
        "a5=np.zeros(200)\n",
        "b5=np.ones(200)\n",
        "c5=np.full(200,2)\n",
        "test_labels= np.append(a5,b5)\n",
        "test_labels= np.append(test_labels,c5)\n",
        "\n",
        "print(train_labels.shape, test_labels.shape)\n",
        "print(train_labels)"
      ]
    },
    {
      "cell_type": "code",
      "execution_count": 7,
      "metadata": {
        "colab": {
          "base_uri": "https://localhost:8080/"
        },
        "id": "SmzVSUCRsaet",
        "outputId": "68c36938-6bcb-4167-a59b-f62b31f7d228"
      },
      "outputs": [],
      "source": [
        "# se agrega una dimension extra a utilizar posteriormente\n",
        "#train_x=np.expand_dims(train_x, axis=3)\n",
        "#test_x=np.expand_dims(test_x, axis=3)\n",
        "#print(train_x.shape)\n",
        "#print(test_x.shape)"
      ]
    },
    {
      "cell_type": "code",
      "execution_count": 5,
      "metadata": {
        "colab": {
          "base_uri": "https://localhost:8080/"
        },
        "id": "v61VQHnGudzr",
        "outputId": "d63e85da-c651-417c-94cd-701a716996f7"
      },
      "outputs": [
        {
          "name": "stdout",
          "output_type": "stream",
          "text": [
            "(2400, 200, 200)\n",
            "(600, 200, 200)\n"
          ]
        }
      ],
      "source": [
        "# Normalizar los radriargramas\n",
        "for i in range(0,2400):\n",
        "  train_images[i]= train_images[i]/abs(np.max(train_images[i]))\n",
        "for i in range(0,600):\n",
        "  test_images[i]= test_images[i]/abs(np.max(test_images[i]))\n",
        "print(train_images.shape)\n",
        "print(test_images.shape)"
      ]
    },
    {
      "cell_type": "code",
      "execution_count": 6,
      "metadata": {
        "colab": {
          "base_uri": "https://localhost:8080/"
        },
        "id": "OGZJyAclw6dP",
        "outputId": "4bf7de31-6f21-4ea1-a008-073d811940d2"
      },
      "outputs": [
        {
          "name": "stdout",
          "output_type": "stream",
          "text": [
            "(200, 200)\n"
          ]
        },
        {
          "name": "stdout",
          "output_type": "stream",
          "text": [
            "(2400, 200, 200, 1)\n",
            "(200, 200, 1)\n",
            "(600, 200, 200, 1)\n"
          ]
        }
      ],
      "source": [
        "#Para hacerle el resize\n",
        "print(train_images[10,:,:].shape)\n",
        "train_images=np.resize(train_images,(2400,200,200,1))\n",
        "print(train_images.shape)\n",
        "print(train_images[10,:,:,:].shape)\n",
        "\n",
        "test_images=np.resize(test_images,(600,200,200,1))\n",
        "print(test_images.shape)"
      ]
    },
    {
      "cell_type": "code",
      "execution_count": 7,
      "metadata": {
        "colab": {
          "base_uri": "https://localhost:8080/"
        },
        "id": "cgNx6NED11Ag",
        "outputId": "d3edbca4-e796-47ab-9ee1-8717d059a552"
      },
      "outputs": [
        {
          "ename": "",
          "evalue": "",
          "output_type": "error",
          "traceback": [
            "\u001b[1;31mCannot execute code, session has been disposed. Please try restarting the Kernel."
          ]
        },
        {
          "ename": "",
          "evalue": "",
          "output_type": "error",
          "traceback": [
            "\u001b[1;31mThe Kernel crashed while executing code in the the current cell or a previous cell. Please review the code in the cell(s) to identify a possible cause of the failure. Click <a href='https://aka.ms/vscodeJupyterKernelCrash'>here</a> for more info. View Jupyter <a href='command:jupyter.viewOutput'>log</a> for further details."
          ]
        }
      ],
      "source": [
        "def build_cnn_model():\n",
        "    cnn_model = tf.keras.Sequential([\n",
        "          # Definimos la primera capa de convolucion\n",
        "          tf.keras.layers.Conv2D(filters=16, kernel_size=(3,3), activation=tf.nn.relu, input_shape=(200,200,1)),\n",
        "          # Definimos la primera capa donde extraemos la informacion mas importante\n",
        "          tf.keras.layers.MaxPool2D(pool_size=(3, 3)),\n",
        "          # Definimos la segunda capa de convolucion\n",
        "          tf.keras.layers.Conv2D(filters=28, kernel_size=(3,3), activation=tf.nn.relu),\n",
        "          # Definimos la segunda capa donde extraemos la informacion mas importante\n",
        "          tf.keras.layers.MaxPool2D(pool_size=(2, 2)),\n",
        "          # aplanamos\n",
        "          tf.keras.layers.Flatten(),\n",
        "          #Definimos la primera capa totalmente conectadas\n",
        "          tf.keras.layers.Dense(140, activation=tf.nn.relu),\n",
        "          #Definimos la segunda capa totalmente conectadas\n",
        "          tf.keras.layers.Dense(90, activation=tf.nn.relu),\n",
        "          #Definimos la tercera capa totalmente conectadas\n",
        "          tf.keras.layers.Dense(45, activation=tf.nn.relu),\n",
        "          tf.keras.layers.Dense(3, activation=tf.nn.softmax)\n",
        "      ])\n",
        "\n",
        "    return cnn_model\n",
        "cnn_model = build_cnn_model()\n",
        "cnn_model.predict(train_images[[0]])\n",
        "print(cnn_model.summary())"
      ]
    },
    {
      "cell_type": "code",
      "execution_count": 1,
      "metadata": {
        "colab": {
          "base_uri": "https://localhost:8080/"
        },
        "id": "DxUdOekt8FlM",
        "outputId": "e03c2a08-94c5-4c21-8b62-205b44c91d98"
      },
      "outputs": [
        {
          "ename": "NameError",
          "evalue": "name 'cnn_model' is not defined",
          "output_type": "error",
          "traceback": [
            "\u001b[1;31m---------------------------------------------------------------------------\u001b[0m",
            "\u001b[1;31mNameError\u001b[0m                                 Traceback (most recent call last)",
            "Cell \u001b[1;32mIn[1], line 1\u001b[0m\n\u001b[1;32m----> 1\u001b[0m cnn_model\u001b[39m.\u001b[39mcompile(optimizer\u001b[39m=\u001b[39mtf\u001b[39m.\u001b[39mkeras\u001b[39m.\u001b[39moptimizers\u001b[39m.\u001b[39mSGD(learning_rate\u001b[39m=\u001b[39m\u001b[39m1e-4\u001b[39m),loss\u001b[39m=\u001b[39m\u001b[39m'\u001b[39m\u001b[39msparse_categorical_crossentropy\u001b[39m\u001b[39m'\u001b[39m, metrics\u001b[39m=\u001b[39m[\u001b[39m'\u001b[39m\u001b[39maccuracy\u001b[39m\u001b[39m'\u001b[39m])\n\u001b[0;32m      3\u001b[0m BATCH_SIZE \u001b[39m=\u001b[39m \u001b[39m20\u001b[39m\n\u001b[0;32m      4\u001b[0m EPOCHS \u001b[39m=\u001b[39m \u001b[39m100\u001b[39m\n",
            "\u001b[1;31mNameError\u001b[0m: name 'cnn_model' is not defined"
          ]
        }
      ],
      "source": [
        "cnn_model.compile(optimizer=tf.keras.optimizers.SGD(learning_rate=1e-4),loss='sparse_categorical_crossentropy', metrics=['accuracy'])\n",
        "\n",
        "BATCH_SIZE = 20\n",
        "EPOCHS = 100\n",
        "\n",
        "cnn_model.fit(train_images, train_labels, batch_size=BATCH_SIZE, epochs=EPOCHS)"
      ]
    },
    {
      "cell_type": "code",
      "execution_count": null,
      "metadata": {
        "colab": {
          "base_uri": "https://localhost:8080/"
        },
        "id": "c72zYqFc8rlM",
        "outputId": "196b5d96-b6de-495e-b30e-e084c68112b0"
      },
      "outputs": [
        {
          "name": "stdout",
          "output_type": "stream",
          "text": [
            "19/19 [==============================] - 3s 142ms/step - loss: 0.0806 - accuracy: 0.9900\n",
            "[0. 0. 0. 0. 0. 0. 0. 0. 0. 0. 0. 0. 0. 0. 0. 0. 0. 0. 0. 0. 0. 0. 0. 0.\n",
            " 0. 0. 0. 0. 0. 0. 0. 0. 0. 0. 0. 0. 0. 0. 0. 0. 0. 0. 0. 0. 0. 0. 0. 0.\n",
            " 0. 0. 0. 0. 0. 0. 0. 0. 0. 0. 0. 0. 0. 0. 0. 0. 0. 0. 0. 0. 0. 0. 0. 0.\n",
            " 0. 0. 0. 0. 0. 0. 0. 0. 0. 0. 0. 0. 0. 0. 0. 0. 0. 0. 0. 0. 0. 0. 0. 0.\n",
            " 0. 0. 0. 0. 0. 0. 0. 0. 0. 0. 0. 0. 0. 0. 0. 0. 0. 0. 0. 0. 0. 0. 0. 0.\n",
            " 0. 0. 0. 0. 0. 0. 0. 0. 0. 0. 0. 0. 0. 0. 0. 0. 0. 0. 0. 0. 0. 0. 0. 0.\n",
            " 0. 0. 0. 0. 0. 0. 0. 0. 0. 0. 0. 0. 0. 0. 0. 0. 0. 0. 0. 0. 0. 0. 0. 0.\n",
            " 0. 0. 0. 0. 0. 0. 0. 0. 0. 0. 0. 0. 0. 0. 0. 0. 0. 0. 0. 0. 0. 0. 0. 0.\n",
            " 0. 0. 0. 0. 0. 0. 0. 0. 1. 1. 1. 1. 1. 1. 1. 1. 1. 1. 1. 1. 1. 1. 1. 1.\n",
            " 1. 1. 1. 1. 1. 1. 1. 1. 1. 1. 1. 1. 1. 1. 1. 1. 1. 1. 1. 1. 1. 1. 1. 1.\n",
            " 1. 1. 1. 1. 1. 1. 1. 1. 1. 1. 1. 1. 1. 1. 1. 1. 1. 1. 1. 1. 1. 1. 1. 1.\n",
            " 1. 1. 1. 1. 1. 1. 1. 1. 1. 1. 1. 1. 1. 1. 1. 1. 1. 1. 1. 1. 1. 1. 1. 1.\n",
            " 1. 1. 1. 1. 1. 1. 1. 1. 1. 1. 1. 1. 1. 1. 1. 1. 1. 1. 1. 1. 1. 1. 1. 1.\n",
            " 1. 1. 1. 1. 1. 1. 1. 1. 1. 1. 1. 1. 1. 1. 1. 1. 1. 1. 1. 1. 1. 1. 1. 1.\n",
            " 1. 1. 1. 1. 1. 1. 1. 1. 1. 1. 1. 1. 1. 1. 1. 1. 1. 1. 1. 1. 1. 1. 1. 1.\n",
            " 1. 1. 1. 1. 1. 1. 1. 1. 1. 1. 1. 1. 1. 1. 1. 1. 1. 1. 1. 1. 1. 1. 1. 1.\n",
            " 1. 1. 1. 1. 1. 1. 1. 1. 1. 1. 1. 1. 1. 1. 1. 1. 2. 2. 2. 2. 2. 2. 2. 2.\n",
            " 2. 2. 2. 2. 2. 2. 2. 2. 2. 2. 2. 2. 2. 2. 2. 2. 2. 2. 2. 2. 2. 2. 2. 2.\n",
            " 2. 2. 2. 2. 2. 2. 2. 2. 2. 2. 2. 2. 2. 2. 2. 2. 2. 2. 2. 2. 2. 2. 2. 2.\n",
            " 2. 2. 2. 2. 2. 2. 2. 2. 2. 2. 2. 2. 2. 2. 2. 2. 2. 2. 2. 2. 2. 2. 2. 2.\n",
            " 2. 2. 2. 2. 2. 2. 2. 2. 2. 2. 2. 2. 2. 2. 2. 2. 2. 2. 2. 2. 2. 2. 2. 2.\n",
            " 2. 2. 2. 2. 2. 2. 2. 2. 2. 2. 2. 2. 2. 2. 2. 2. 2. 2. 2. 2. 2. 2. 2. 2.\n",
            " 2. 2. 2. 2. 2. 2. 2. 2. 2. 2. 2. 2. 2. 2. 2. 2. 2. 2. 2. 2. 2. 2. 2. 2.\n",
            " 2. 2. 2. 2. 2. 2. 2. 2. 2. 2. 2. 2. 2. 2. 2. 2. 2. 2. 2. 2. 2. 2. 2. 2.\n",
            " 2. 2. 2. 2. 2. 2. 2. 2. 2. 2. 2. 2. 2. 2. 2. 2. 2. 2. 2. 2. 2. 2. 2. 2.]\n",
            "Test accuracy: 0.9900000095367432\n"
          ]
        }
      ],
      "source": [
        "test_loss, test_acc =  cnn_model.evaluate(test_images,test_labels)\n",
        "print(test_labels)\n",
        "\n",
        "print('Test accuracy:', test_acc)"
      ]
    },
    {
      "cell_type": "code",
      "execution_count": null,
      "metadata": {
        "colab": {
          "base_uri": "https://localhost:8080/",
          "height": 235
        },
        "id": "LbWS7jqMqypy",
        "outputId": "a3d207f7-d647-453d-a15f-b9f3282ecc6e"
      },
      "outputs": [
        {
          "ename": "NameError",
          "evalue": "ignored",
          "output_type": "error",
          "traceback": [
            "\u001b[0;31m---------------------------------------------------------------------------\u001b[0m",
            "\u001b[0;31mNameError\u001b[0m                                 Traceback (most recent call last)",
            "\u001b[0;32m<ipython-input-1-4271c3cb81dc>\u001b[0m in \u001b[0;36m<cell line: 1>\u001b[0;34m()\u001b[0m\n\u001b[0;32m----> 1\u001b[0;31m \u001b[0mpredictions\u001b[0m \u001b[0;34m=\u001b[0m \u001b[0mcnn_model\u001b[0m\u001b[0;34m.\u001b[0m\u001b[0mpredict\u001b[0m\u001b[0;34m(\u001b[0m\u001b[0mtest_images\u001b[0m\u001b[0;34m)\u001b[0m\u001b[0;34m\u001b[0m\u001b[0;34m\u001b[0m\u001b[0m\n\u001b[0m\u001b[1;32m      2\u001b[0m \u001b[0ma\u001b[0m\u001b[0;34m=\u001b[0m\u001b[0mrandom\u001b[0m\u001b[0;34m.\u001b[0m\u001b[0mrandint\u001b[0m\u001b[0;34m(\u001b[0m\u001b[0;36m0\u001b[0m\u001b[0;34m,\u001b[0m\u001b[0;36m600\u001b[0m\u001b[0;34m)\u001b[0m\u001b[0;34m\u001b[0m\u001b[0;34m\u001b[0m\u001b[0m\n\u001b[1;32m      3\u001b[0m \u001b[0mpredictions\u001b[0m\u001b[0;34m[\u001b[0m\u001b[0ma\u001b[0m\u001b[0;34m]\u001b[0m\u001b[0;34m\u001b[0m\u001b[0;34m\u001b[0m\u001b[0m\n\u001b[1;32m      4\u001b[0m \u001b[0mprediction\u001b[0m \u001b[0;34m=\u001b[0m \u001b[0mnp\u001b[0m\u001b[0;34m.\u001b[0m\u001b[0margmax\u001b[0m\u001b[0;34m(\u001b[0m\u001b[0mpredictions\u001b[0m\u001b[0;34m[\u001b[0m\u001b[0ma\u001b[0m\u001b[0;34m]\u001b[0m\u001b[0;34m)\u001b[0m\u001b[0;34m\u001b[0m\u001b[0;34m\u001b[0m\u001b[0m\n\u001b[1;32m      5\u001b[0m \u001b[0mprint\u001b[0m\u001b[0;34m(\u001b[0m\u001b[0mprediction\u001b[0m\u001b[0;34m)\u001b[0m\u001b[0;34m\u001b[0m\u001b[0;34m\u001b[0m\u001b[0m\n",
            "\u001b[0;31mNameError\u001b[0m: name 'cnn_model' is not defined"
          ]
        }
      ],
      "source": [
        "predictions = cnn_model.predict(test_images)\n",
        "a=random.randint(0,600)\n",
        "predictions[a]\n",
        "prediction = np.argmax(predictions[a])\n",
        "print(prediction)\n",
        "print(\"Label of this digit is:\", test_labels[a])\n",
        "plt.imshow(test_images[a,:,:,0], cmap='Blues')\n",
        "plt.axis('off')"
      ]
    }
  ],
  "metadata": {
    "accelerator": "GPU",
    "colab": {
      "provenance": []
    },
    "kernelspec": {
      "display_name": "Python 3",
      "name": "python3"
    },
    "language_info": {
      "codemirror_mode": {
        "name": "ipython",
        "version": 3
      },
      "file_extension": ".py",
      "mimetype": "text/x-python",
      "name": "python",
      "nbconvert_exporter": "python",
      "pygments_lexer": "ipython3",
      "version": "3.10.9"
    }
  },
  "nbformat": 4,
  "nbformat_minor": 0
}
