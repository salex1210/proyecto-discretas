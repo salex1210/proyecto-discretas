{
  "cells": [
    {
      "cell_type": "code",
      "execution_count": 4,
      "metadata": {
        "colab": {
          "base_uri": "https://localhost:8080/"
        },
        "id": "ZDY78VWAgAk_",
        "outputId": "931a9884-3a15-4b21-fd66-88cd64e57315"
      },
      "outputs": [
        {
          "name": "stdout",
          "output_type": "stream",
          "text": [
            "Note: you may need to restart the kernel to use updated packages.Collecting mitdeeplearning\n",
            "  Downloading mitdeeplearning-0.3.0.tar.gz (2.1 MB)\n",
            "     ---------------------------------------- 2.1/2.1 MB 2.2 MB/s eta 0:00:00\n",
            "  Preparing metadata (setup.py): started\n",
            "  Preparing metadata (setup.py): finished with status 'done'\n",
            "Requirement already satisfied: numpy in c:\\users\\gersonsanchez\\anaconda3\\lib\\site-packages (from mitdeeplearning) (1.23.5)\n",
            "Requirement already satisfied: regex in c:\\users\\gersonsanchez\\anaconda3\\lib\\site-packages (from mitdeeplearning) (2022.7.9)\n",
            "Requirement already satisfied: tqdm in c:\\users\\gersonsanchez\\anaconda3\\lib\\site-packages (from mitdeeplearning) (4.64.1)\n",
            "Collecting gym\n",
            "  Downloading gym-0.26.2.tar.gz (721 kB)\n",
            "     -------------------------------------- 721.7/721.7 kB 2.8 MB/s eta 0:00:00\n",
            "  Installing build dependencies: started\n",
            "  Installing build dependencies: finished with status 'done'\n",
            "  Getting requirements to build wheel: started\n",
            "  Getting requirements to build wheel: finished with status 'done'\n",
            "  Preparing metadata (pyproject.toml): started\n",
            "  Preparing metadata (pyproject.toml): finished with status 'done'\n",
            "Requirement already satisfied: cloudpickle>=1.2.0 in c:\\users\\gersonsanchez\\anaconda3\\lib\\site-packages (from gym->mitdeeplearning) (2.0.0)\n",
            "Collecting gym-notices>=0.0.4\n",
            "  Downloading gym_notices-0.0.8-py3-none-any.whl (3.0 kB)\n",
            "Requirement already satisfied: colorama in c:\\users\\gersonsanchez\\anaconda3\\lib\\site-packages (from tqdm->mitdeeplearning) (0.4.6)\n",
            "Building wheels for collected packages: mitdeeplearning, gym\n",
            "  Building wheel for mitdeeplearning (setup.py): started\n",
            "  Building wheel for mitdeeplearning (setup.py): finished with status 'done'\n",
            "  Created wheel for mitdeeplearning: filename=mitdeeplearning-0.3.0-py3-none-any.whl size=2117313 sha256=b2b50313eef7ddee5e81bc535d65b4f93a53a443d9aaee129c1e4842303c2970\n",
            "  Stored in directory: c:\\users\\gersonsanchez\\appdata\\local\\pip\\cache\\wheels\\05\\94\\e3\\dd49807b2fbb6e0c512fffc07478200abd166dc1e420b3a71b\n",
            "  Building wheel for gym (pyproject.toml): started\n",
            "  Building wheel for gym (pyproject.toml): finished with status 'done'\n",
            "  Created wheel for gym: filename=gym-0.26.2-py3-none-any.whl size=827646 sha256=e1460776b99a44836ed9d4f9e6eec867520810b161c361f042f4e8c9f39eb9ab\n",
            "  Stored in directory: c:\\users\\gersonsanchez\\appdata\\local\\pip\\cache\\wheels\\ae\\5f\\67\\64914473eb34e9ba89dbc7eefe7e9be8f6673fbc6f0273b29f\n",
            "Successfully built mitdeeplearning gym\n",
            "Installing collected packages: gym-notices, gym, mitdeeplearning\n",
            "Successfully installed gym-0.26.2 gym-notices-0.0.8 mitdeeplearning-0.3.0\n",
            "\n"
          ]
        }
      ],
      "source": [
        "# importamos las librerias necesarias\n",
        "#tensorflow_version 2.x\n",
        "import tensorflow as tf\n",
        "\n",
        "%pip install    \n",
        "import mitdeeplearning as mdl\n",
        "import random\n",
        "import matplotlib.pyplot as plt\n",
        "import numpy as np\n",
        "import random\n",
        "from tqdm import tqdm\n",
        "#assert len(tf.config.list_physical_devices('GPU')) > 0"
      ]
    },
    {
      "cell_type": "code",
      "execution_count": 11,
      "metadata": {
        "colab": {
          "base_uri": "https://localhost:8080/"
        },
        "id": "8DFplZ6HhD5a",
        "outputId": "22002292-412a-434d-8c3f-e4304ce5a194"
      },
      "outputs": [],
      "source": [
        "#importamos los datos\n",
        "#from google.colab import drive\n",
        "#drive.mount('/content/drive')\n",
        "\n",
        "#Triangulos\n",
        "a1=np.load(r\"C:\\Users\\GERSONSANCHEZ\\OneDrive - UNIVERSIDAD INDUSTRIAL DE SANTANDER\\Documents\\2023-1\\TRATAMIENTO DE SEñALES DISCRETAS O1\\proyecto-discretas\\pruebastriangulo\\triangulo1.npy\")\n",
        "a2=np.load(r\"C:\\Users\\GERSONSANCHEZ\\OneDrive - UNIVERSIDAD INDUSTRIAL DE SANTANDER\\Documents\\2023-1\\TRATAMIENTO DE SEñALES DISCRETAS O1\\proyecto-discretas\\pruebastriangulo\\triangulo2.npy\")\n",
        "a3=np.load(r\"C:\\Users\\GERSONSANCHEZ\\OneDrive - UNIVERSIDAD INDUSTRIAL DE SANTANDER\\Documents\\2023-1\\TRATAMIENTO DE SEñALES DISCRETAS O1\\proyecto-discretas\\pruebastriangulo\\triangulo3.npy\")\n",
        "a4=np.load(r\"C:\\Users\\GERSONSANCHEZ\\OneDrive - UNIVERSIDAD INDUSTRIAL DE SANTANDER\\Documents\\2023-1\\TRATAMIENTO DE SEñALES DISCRETAS O1\\proyecto-discretas\\pruebastriangulo\\triangulo4.npy\")\n",
        "a5=np.load(r\"C:\\Users\\GERSONSANCHEZ\\OneDrive - UNIVERSIDAD INDUSTRIAL DE SANTANDER\\Documents\\2023-1\\TRATAMIENTO DE SEñALES DISCRETAS O1\\proyecto-discretas\\pruebastriangulo\\triangulo5.npy\")\n",
        "\n",
        "#Circulos\n",
        "a6=np.load(r'C:\\Users\\GERSONSANCHEZ\\OneDrive - UNIVERSIDAD INDUSTRIAL DE SANTANDER\\Documents\\2023-1\\TRATAMIENTO DE SEñALES DISCRETAS O1\\proyecto-discretas\\pruebascirculo\\circulos1.npy')\n",
        "a7=np.load(r'C:\\Users\\GERSONSANCHEZ\\OneDrive - UNIVERSIDAD INDUSTRIAL DE SANTANDER\\Documents\\2023-1\\TRATAMIENTO DE SEñALES DISCRETAS O1\\proyecto-discretas\\pruebascirculo\\circulos2.npy')\n",
        "a8=np.load(r'C:\\Users\\GERSONSANCHEZ\\OneDrive - UNIVERSIDAD INDUSTRIAL DE SANTANDER\\Documents\\2023-1\\TRATAMIENTO DE SEñALES DISCRETAS O1\\proyecto-discretas\\pruebascirculo\\circulos3.npy')\n",
        "a9=np.load(r'C:\\Users\\GERSONSANCHEZ\\OneDrive - UNIVERSIDAD INDUSTRIAL DE SANTANDER\\Documents\\2023-1\\TRATAMIENTO DE SEñALES DISCRETAS O1\\proyecto-discretas\\pruebascirculo\\circulos4.npy')\n",
        "a10=np.load(r'C:\\Users\\GERSONSANCHEZ\\OneDrive - UNIVERSIDAD INDUSTRIAL DE SANTANDER\\Documents\\2023-1\\TRATAMIENTO DE SEñALES DISCRETAS O1\\proyecto-discretas\\pruebascirculo\\circulos5.npy')\n",
        "\n",
        "#Rectangulos\n",
        "a11=np.load(r'C:\\Users\\GERSONSANCHEZ\\OneDrive - UNIVERSIDAD INDUSTRIAL DE SANTANDER\\Documents\\2023-1\\TRATAMIENTO DE SEñALES DISCRETAS O1\\proyecto-discretas\\pruebascuadrado\\rectangulo1.npy')\n",
        "a12=np.load(r'C:\\Users\\GERSONSANCHEZ\\OneDrive - UNIVERSIDAD INDUSTRIAL DE SANTANDER\\Documents\\2023-1\\TRATAMIENTO DE SEñALES DISCRETAS O1\\proyecto-discretas\\pruebascuadrado\\rectangulo2.npy')\n",
        "a13=np.load(r'C:\\Users\\GERSONSANCHEZ\\OneDrive - UNIVERSIDAD INDUSTRIAL DE SANTANDER\\Documents\\2023-1\\TRATAMIENTO DE SEñALES DISCRETAS O1\\proyecto-discretas\\pruebascuadrado\\rectangulo3.npy')\n",
        "a14=np.load(r'C:\\Users\\GERSONSANCHEZ\\OneDrive - UNIVERSIDAD INDUSTRIAL DE SANTANDER\\Documents\\2023-1\\TRATAMIENTO DE SEñALES DISCRETAS O1\\proyecto-discretas\\pruebascuadrado\\rectangulo4.npy')\n",
        "a15=np.load(r'C:\\Users\\GERSONSANCHEZ\\OneDrive - UNIVERSIDAD INDUSTRIAL DE SANTANDER\\Documents\\2023-1\\TRATAMIENTO DE SEñALES DISCRETAS O1\\proyecto-discretas\\pruebascuadrado\\rectangulo5.npy')\n",
        "\n",
        "\n",
        "#Unimos los radargramas de entrenamiento\n",
        "train_images=np.append(a1,a2)\n",
        "train_images=np.append(train_images,a3)\n",
        "train_images=np.append(train_images,a4)\n",
        "train_images=np.append(train_images,a6)\n",
        "train_images=np.append(train_images,a7)\n",
        "train_images=np.append(train_images,a8)\n",
        "train_images=np.append(train_images,a9)\n",
        "train_images=np.append(train_images,a11)\n",
        "train_images=np.append(train_images,a12)\n",
        "train_images=np.append(train_images,a13)\n",
        "train_images=np.append(train_images,a14)\n",
        "\n",
        "#Unimos los radargramas de prueba\n",
        "test_images=np.append(a5,a10)\n",
        "test_images=np.append(test_images,a15)"
      ]
    },
    {
      "cell_type": "code",
      "execution_count": 12,
      "metadata": {
        "colab": {
          "base_uri": "https://localhost:8080/",
          "height": 476
        },
        "id": "swUtWUqQjBtM",
        "outputId": "b7533bff-b967-47ae-c056-c325f80b3cf3"
      },
      "outputs": [],
      "source": [
        "print(train_images.shape)\n",
        "train_images=train_images.reshape(2400,200,200)\n",
        "test_images=test_images.reshape(600,200,200)\n",
        "print(train_images.shape)\n",
        "print(test_images.shape)\n",
        "plt.imshow(test_images[10,:,:], cmap='Blues')\n",
        "plt.axis('off')\n",
        "plt.show()\n",
        "'''for i in range(600):\n",
        "  plt.imshow(test_images[i,:,:], cmap='Blues')\n",
        "  plt.axis('off')\n",
        "  plt.show()'''"
      ]
    },
    {
      "cell_type": "code",
      "execution_count": null,
      "metadata": {
        "colab": {
          "base_uri": "https://localhost:8080/"
        },
        "id": "_KHdnPxpmxJN",
        "outputId": "f9e53308-a67b-464e-9513-4154d2fcec08"
      },
      "outputs": [
        {
          "name": "stdout",
          "output_type": "stream",
          "text": [
            "(2400,) (600,)\n",
            "[0. 0. 0. ... 2. 2. 2.]\n"
          ]
        }
      ],
      "source": [
        "#Etiquetamos el entrenamiento\n",
        "a1=np.zeros(800)\n",
        "b1=np.ones(800)\n",
        "c1=np.full(800,2)\n",
        "train_labels = np.append(a1,b1)\n",
        "train_labels = np.append(train_labels,c1)\n",
        "#Etiquetamos las pruebas\n",
        "\n",
        "a5=np.zeros(200)\n",
        "b5=np.ones(200)\n",
        "c5=np.full(200,2)\n",
        "test_labels= np.append(a5,b5)\n",
        "test_labels= np.append(test_labels,c5)\n",
        "\n",
        "print(train_labels.shape, test_labels.shape)\n",
        "print(train_labels)"
      ]
    },
    {
      "cell_type": "code",
      "execution_count": null,
      "metadata": {
        "colab": {
          "base_uri": "https://localhost:8080/"
        },
        "id": "SmzVSUCRsaet",
        "outputId": "68c36938-6bcb-4167-a59b-f62b31f7d228"
      },
      "outputs": [
        {
          "name": "stdout",
          "output_type": "stream",
          "text": [
            "(2400, 200, 200, 1, 1, 1)\n",
            "(600, 200, 200, 1, 1, 1)\n"
          ]
        }
      ],
      "source": [
        "# se agrega una dimension extra a utilizar posteriormente\n",
        "#train_x=np.expand_dims(train_x, axis=3)\n",
        "#test_x=np.expand_dims(test_x, axis=3)\n",
        "#print(train_x.shape)\n",
        "#print(test_x.shape)"
      ]
    },
    {
      "cell_type": "code",
      "execution_count": null,
      "metadata": {
        "colab": {
          "base_uri": "https://localhost:8080/"
        },
        "id": "v61VQHnGudzr",
        "outputId": "d63e85da-c651-417c-94cd-701a716996f7"
      },
      "outputs": [
        {
          "name": "stdout",
          "output_type": "stream",
          "text": [
            "(2400, 200, 200)\n",
            "(600, 200, 200)\n"
          ]
        }
      ],
      "source": [
        "# Normalizar los radriargramas\n",
        "for i in range(0,2400):\n",
        "  train_images[i]= train_images[i]/abs(np.max(train_images[i]))\n",
        "for i in range(0,600):\n",
        "  test_images[i]= test_images[i]/abs(np.max(test_images[i]))\n",
        "print(train_images.shape)\n",
        "print(test_images.shape)"
      ]
    },
    {
      "cell_type": "code",
      "execution_count": null,
      "metadata": {
        "colab": {
          "base_uri": "https://localhost:8080/"
        },
        "id": "OGZJyAclw6dP",
        "outputId": "4bf7de31-6f21-4ea1-a008-073d811940d2"
      },
      "outputs": [
        {
          "name": "stdout",
          "output_type": "stream",
          "text": [
            "(200, 200)\n",
            "(2400, 200, 200, 1)\n",
            "(200, 200, 1)\n",
            "(600, 200, 200, 1)\n"
          ]
        }
      ],
      "source": [
        "#Para hacerle el resize\n",
        "print(train_images[10,:,:].shape)\n",
        "train_images=np.resize(train_images,(2400,200,200,1))\n",
        "print(train_images.shape)\n",
        "print(train_images[10,:,:,:].shape)\n",
        "\n",
        "test_images=np.resize(test_images,(600,200,200,1))\n",
        "print(test_images.shape)"
      ]
    },
    {
      "cell_type": "code",
      "execution_count": null,
      "metadata": {
        "colab": {
          "base_uri": "https://localhost:8080/"
        },
        "id": "cgNx6NED11Ag",
        "outputId": "d3edbca4-e796-47ab-9ee1-8717d059a552"
      },
      "outputs": [
        {
          "name": "stdout",
          "output_type": "stream",
          "text": [
            "1/1 [==============================] - 0s 339ms/step\n",
            "Model: \"sequential\"\n",
            "_________________________________________________________________\n",
            " Layer (type)                Output Shape              Param #   \n",
            "=================================================================\n",
            " conv2d (Conv2D)             (None, 198, 198, 16)      160       \n",
            "                                                                 \n",
            " max_pooling2d (MaxPooling2D  (None, 66, 66, 16)       0         \n",
            " )                                                               \n",
            "                                                                 \n",
            " conv2d_1 (Conv2D)           (None, 64, 64, 28)        4060      \n",
            "                                                                 \n",
            " max_pooling2d_1 (MaxPooling  (None, 32, 32, 28)       0         \n",
            " 2D)                                                             \n",
            "                                                                 \n",
            " flatten (Flatten)           (None, 28672)             0         \n",
            "                                                                 \n",
            " dense (Dense)               (None, 140)               4014220   \n",
            "                                                                 \n",
            " dense_1 (Dense)             (None, 90)                12690     \n",
            "                                                                 \n",
            " dense_2 (Dense)             (None, 45)                4095      \n",
            "                                                                 \n",
            " dense_3 (Dense)             (None, 3)                 138       \n",
            "                                                                 \n",
            "=================================================================\n",
            "Total params: 4,035,363\n",
            "Trainable params: 4,035,363\n",
            "Non-trainable params: 0\n",
            "_________________________________________________________________\n",
            "None\n"
          ]
        }
      ],
      "source": [
        "def build_cnn_model():\n",
        "    cnn_model = tf.keras.Sequential([\n",
        "          # Definimos la primera capa de convolucion\n",
        "          tf.keras.layers.Conv2D(filters=16, kernel_size=(3,3), activation=tf.nn.relu, input_shape=(200,200,1)),\n",
        "          # Definimos la primera capa donde extraemos la informacion mas importante\n",
        "          tf.keras.layers.MaxPool2D(pool_size=(3, 3)),\n",
        "          # Definimos la segunda capa de convolucion\n",
        "          tf.keras.layers.Conv2D(filters=28, kernel_size=(3,3), activation=tf.nn.relu),\n",
        "          # Definimos la segunda capa donde extraemos la informacion mas importante\n",
        "          tf.keras.layers.MaxPool2D(pool_size=(2, 2)),\n",
        "          # aplanamos\n",
        "          tf.keras.layers.Flatten(),\n",
        "          #Definimos la primera capa totalmente conectadas\n",
        "          tf.keras.layers.Dense(140, activation=tf.nn.relu),\n",
        "          #Definimos la segunda capa totalmente conectadas\n",
        "          tf.keras.layers.Dense(90, activation=tf.nn.relu),\n",
        "          #Definimos la tercera capa totalmente conectadas\n",
        "          tf.keras.layers.Dense(45, activation=tf.nn.relu),\n",
        "          tf.keras.layers.Dense(3, activation=tf.nn.softmax)\n",
        "      ])\n",
        "\n",
        "    return cnn_model\n",
        "cnn_model = build_cnn_model()\n",
        "cnn_model.predict(train_images[[0]])\n",
        "print(cnn_model.summary())"
      ]
    },
    {
      "cell_type": "code",
      "execution_count": null,
      "metadata": {
        "colab": {
          "base_uri": "https://localhost:8080/"
        },
        "id": "DxUdOekt8FlM",
        "outputId": "e03c2a08-94c5-4c21-8b62-205b44c91d98"
      },
      "outputs": [
        {
          "name": "stdout",
          "output_type": "stream",
          "text": [
            "Epoch 1/100\n",
            "120/120 [==============================] - 37s 306ms/step - loss: 1.0822 - accuracy: 0.3850\n",
            "Epoch 2/100\n",
            "120/120 [==============================] - 34s 287ms/step - loss: 1.0508 - accuracy: 0.3758\n",
            "Epoch 3/100\n",
            "120/120 [==============================] - 36s 300ms/step - loss: 1.0208 - accuracy: 0.3629\n",
            "Epoch 4/100\n",
            "120/120 [==============================] - 36s 302ms/step - loss: 0.9968 - accuracy: 0.3608\n",
            "Epoch 5/100\n",
            "120/120 [==============================] - 36s 297ms/step - loss: 0.9766 - accuracy: 0.3604\n",
            "Epoch 6/100\n",
            "120/120 [==============================] - 36s 301ms/step - loss: 0.9585 - accuracy: 0.3654\n",
            "Epoch 7/100\n",
            "120/120 [==============================] - 36s 303ms/step - loss: 0.9416 - accuracy: 0.3725\n",
            "Epoch 8/100\n",
            "120/120 [==============================] - 41s 343ms/step - loss: 0.9250 - accuracy: 0.3817\n",
            "Epoch 9/100\n",
            "120/120 [==============================] - 38s 319ms/step - loss: 0.9088 - accuracy: 0.3971\n",
            "Epoch 10/100\n",
            "120/120 [==============================] - 39s 326ms/step - loss: 0.8932 - accuracy: 0.4158\n",
            "Epoch 11/100\n",
            "120/120 [==============================] - 39s 327ms/step - loss: 0.8778 - accuracy: 0.4371\n",
            "Epoch 12/100\n",
            "120/120 [==============================] - 39s 324ms/step - loss: 0.8624 - accuracy: 0.4679\n",
            "Epoch 13/100\n",
            "120/120 [==============================] - 37s 310ms/step - loss: 0.8467 - accuracy: 0.5079\n",
            "Epoch 14/100\n",
            "120/120 [==============================] - 38s 314ms/step - loss: 0.8309 - accuracy: 0.5529\n",
            "Epoch 15/100\n",
            "120/120 [==============================] - 38s 316ms/step - loss: 0.8151 - accuracy: 0.6133\n",
            "Epoch 16/100\n",
            "120/120 [==============================] - 38s 313ms/step - loss: 0.7993 - accuracy: 0.6708\n",
            "Epoch 17/100\n",
            "120/120 [==============================] - 39s 322ms/step - loss: 0.7832 - accuracy: 0.7150\n",
            "Epoch 18/100\n",
            "120/120 [==============================] - 37s 305ms/step - loss: 0.7671 - accuracy: 0.7600\n",
            "Epoch 19/100\n",
            "120/120 [==============================] - 38s 317ms/step - loss: 0.7510 - accuracy: 0.7954\n",
            "Epoch 20/100\n",
            "120/120 [==============================] - 38s 317ms/step - loss: 0.7348 - accuracy: 0.8300\n",
            "Epoch 21/100\n",
            "120/120 [==============================] - 37s 311ms/step - loss: 0.7183 - accuracy: 0.8533\n",
            "Epoch 22/100\n",
            "120/120 [==============================] - 38s 311ms/step - loss: 0.7019 - accuracy: 0.8717\n",
            "Epoch 23/100\n",
            "120/120 [==============================] - 39s 323ms/step - loss: 0.6855 - accuracy: 0.8883\n",
            "Epoch 24/100\n",
            "120/120 [==============================] - 44s 366ms/step - loss: 0.6693 - accuracy: 0.8988\n",
            "Epoch 25/100\n",
            "120/120 [==============================] - 38s 314ms/step - loss: 0.6529 - accuracy: 0.9092\n",
            "Epoch 26/100\n",
            "120/120 [==============================] - 38s 317ms/step - loss: 0.6366 - accuracy: 0.9183\n",
            "Epoch 27/100\n",
            "120/120 [==============================] - 38s 316ms/step - loss: 0.6206 - accuracy: 0.9208\n",
            "Epoch 28/100\n",
            "120/120 [==============================] - 38s 316ms/step - loss: 0.6047 - accuracy: 0.9250\n",
            "Epoch 29/100\n",
            "120/120 [==============================] - 38s 315ms/step - loss: 0.5891 - accuracy: 0.9304\n",
            "Epoch 30/100\n",
            "120/120 [==============================] - 37s 308ms/step - loss: 0.5737 - accuracy: 0.9308\n",
            "Epoch 31/100\n",
            "120/120 [==============================] - 37s 308ms/step - loss: 0.5584 - accuracy: 0.9379\n",
            "Epoch 32/100\n",
            "120/120 [==============================] - 37s 305ms/step - loss: 0.5433 - accuracy: 0.9408\n",
            "Epoch 33/100\n",
            "120/120 [==============================] - 38s 320ms/step - loss: 0.5285 - accuracy: 0.9454\n",
            "Epoch 34/100\n",
            "120/120 [==============================] - 38s 314ms/step - loss: 0.5139 - accuracy: 0.9475\n",
            "Epoch 35/100\n",
            "120/120 [==============================] - 38s 317ms/step - loss: 0.4996 - accuracy: 0.9483\n",
            "Epoch 36/100\n",
            "120/120 [==============================] - 39s 322ms/step - loss: 0.4856 - accuracy: 0.9488\n",
            "Epoch 37/100\n",
            "120/120 [==============================] - 38s 316ms/step - loss: 0.4718 - accuracy: 0.9483\n",
            "Epoch 38/100\n",
            "120/120 [==============================] - 38s 319ms/step - loss: 0.4582 - accuracy: 0.9517\n",
            "Epoch 39/100\n",
            "120/120 [==============================] - 36s 303ms/step - loss: 0.4449 - accuracy: 0.9554\n",
            "Epoch 40/100\n",
            "120/120 [==============================] - 43s 359ms/step - loss: 0.4322 - accuracy: 0.9546\n",
            "Epoch 41/100\n",
            "120/120 [==============================] - 39s 321ms/step - loss: 0.4194 - accuracy: 0.9563\n",
            "Epoch 42/100\n",
            "120/120 [==============================] - 37s 308ms/step - loss: 0.4070 - accuracy: 0.9571\n",
            "Epoch 43/100\n",
            "120/120 [==============================] - 37s 310ms/step - loss: 0.3950 - accuracy: 0.9571\n",
            "Epoch 44/100\n",
            "120/120 [==============================] - 39s 324ms/step - loss: 0.3829 - accuracy: 0.9579\n",
            "Epoch 45/100\n",
            "120/120 [==============================] - 39s 326ms/step - loss: 0.3709 - accuracy: 0.9571\n",
            "Epoch 46/100\n",
            "120/120 [==============================] - 40s 334ms/step - loss: 0.3602 - accuracy: 0.9604\n",
            "Epoch 47/100\n",
            "120/120 [==============================] - 39s 323ms/step - loss: 0.3495 - accuracy: 0.9613\n",
            "Epoch 48/100\n",
            "120/120 [==============================] - 38s 316ms/step - loss: 0.3387 - accuracy: 0.9613\n",
            "Epoch 49/100\n",
            "120/120 [==============================] - 39s 328ms/step - loss: 0.3282 - accuracy: 0.9633\n",
            "Epoch 50/100\n",
            "120/120 [==============================] - 38s 319ms/step - loss: 0.3181 - accuracy: 0.9642\n",
            "Epoch 51/100\n",
            "120/120 [==============================] - 38s 320ms/step - loss: 0.3085 - accuracy: 0.9638\n",
            "Epoch 52/100\n",
            "120/120 [==============================] - 38s 314ms/step - loss: 0.2988 - accuracy: 0.9654\n",
            "Epoch 53/100\n",
            "120/120 [==============================] - 37s 310ms/step - loss: 0.2898 - accuracy: 0.9650\n",
            "Epoch 54/100\n",
            "120/120 [==============================] - 38s 317ms/step - loss: 0.2807 - accuracy: 0.9667\n",
            "Epoch 55/100\n",
            "120/120 [==============================] - 38s 311ms/step - loss: 0.2718 - accuracy: 0.9688\n",
            "Epoch 56/100\n",
            "120/120 [==============================] - 39s 323ms/step - loss: 0.2641 - accuracy: 0.9683\n",
            "Epoch 57/100\n",
            "120/120 [==============================] - 38s 320ms/step - loss: 0.2561 - accuracy: 0.9663\n",
            "Epoch 58/100\n",
            "120/120 [==============================] - 39s 329ms/step - loss: 0.2483 - accuracy: 0.9700\n",
            "Epoch 59/100\n",
            "120/120 [==============================] - 40s 334ms/step - loss: 0.2413 - accuracy: 0.9708\n",
            "Epoch 60/100\n",
            "120/120 [==============================] - 39s 326ms/step - loss: 0.2341 - accuracy: 0.9712\n",
            "Epoch 61/100\n",
            "120/120 [==============================] - 39s 323ms/step - loss: 0.2269 - accuracy: 0.9708\n",
            "Epoch 62/100\n",
            "120/120 [==============================] - 37s 309ms/step - loss: 0.2205 - accuracy: 0.9708\n",
            "Epoch 63/100\n",
            "120/120 [==============================] - 37s 313ms/step - loss: 0.2144 - accuracy: 0.9717\n",
            "Epoch 64/100\n",
            "120/120 [==============================] - 37s 307ms/step - loss: 0.2084 - accuracy: 0.9717\n",
            "Epoch 65/100\n",
            "120/120 [==============================] - 36s 298ms/step - loss: 0.2023 - accuracy: 0.9733\n",
            "Epoch 66/100\n",
            "120/120 [==============================] - 38s 315ms/step - loss: 0.1966 - accuracy: 0.9746\n",
            "Epoch 67/100\n",
            "120/120 [==============================] - 38s 314ms/step - loss: 0.1910 - accuracy: 0.9758\n",
            "Epoch 68/100\n",
            "120/120 [==============================] - 37s 310ms/step - loss: 0.1859 - accuracy: 0.9742\n",
            "Epoch 69/100\n",
            "120/120 [==============================] - 38s 316ms/step - loss: 0.1805 - accuracy: 0.9742\n",
            "Epoch 70/100\n",
            "120/120 [==============================] - 39s 323ms/step - loss: 0.1758 - accuracy: 0.9762\n",
            "Epoch 71/100\n",
            "120/120 [==============================] - 38s 319ms/step - loss: 0.1711 - accuracy: 0.9762\n",
            "Epoch 72/100\n",
            "120/120 [==============================] - 36s 304ms/step - loss: 0.1667 - accuracy: 0.9775\n",
            "Epoch 73/100\n",
            "120/120 [==============================] - 37s 307ms/step - loss: 0.1624 - accuracy: 0.9754\n",
            "Epoch 74/100\n",
            "120/120 [==============================] - 39s 321ms/step - loss: 0.1582 - accuracy: 0.9758\n",
            "Epoch 75/100\n",
            "120/120 [==============================] - 38s 316ms/step - loss: 0.1542 - accuracy: 0.9783\n",
            "Epoch 76/100\n",
            "120/120 [==============================] - 38s 313ms/step - loss: 0.1502 - accuracy: 0.9767\n",
            "Epoch 77/100\n",
            "120/120 [==============================] - 38s 314ms/step - loss: 0.1463 - accuracy: 0.9775\n",
            "Epoch 78/100\n",
            "120/120 [==============================] - 37s 305ms/step - loss: 0.1431 - accuracy: 0.9767\n",
            "Epoch 79/100\n",
            "120/120 [==============================] - 34s 283ms/step - loss: 0.1391 - accuracy: 0.9771\n",
            "Epoch 80/100\n",
            "120/120 [==============================] - 38s 316ms/step - loss: 0.1359 - accuracy: 0.9767\n",
            "Epoch 81/100\n",
            "120/120 [==============================] - 38s 317ms/step - loss: 0.1324 - accuracy: 0.9779\n",
            "Epoch 82/100\n",
            "120/120 [==============================] - 39s 322ms/step - loss: 0.1296 - accuracy: 0.9787\n",
            "Epoch 83/100\n",
            "120/120 [==============================] - 40s 334ms/step - loss: 0.1264 - accuracy: 0.9796\n",
            "Epoch 84/100\n",
            "120/120 [==============================] - 38s 321ms/step - loss: 0.1235 - accuracy: 0.9792\n",
            "Epoch 85/100\n",
            "120/120 [==============================] - 38s 314ms/step - loss: 0.1210 - accuracy: 0.9817\n",
            "Epoch 86/100\n",
            "120/120 [==============================] - 36s 300ms/step - loss: 0.1181 - accuracy: 0.9796\n",
            "Epoch 87/100\n",
            "120/120 [==============================] - 39s 326ms/step - loss: 0.1155 - accuracy: 0.9808\n",
            "Epoch 88/100\n",
            "120/120 [==============================] - 40s 335ms/step - loss: 0.1132 - accuracy: 0.9796\n",
            "Epoch 89/100\n",
            "120/120 [==============================] - 40s 338ms/step - loss: 0.1104 - accuracy: 0.9825\n",
            "Epoch 90/100\n",
            "120/120 [==============================] - 39s 322ms/step - loss: 0.1082 - accuracy: 0.9800\n",
            "Epoch 91/100\n",
            "120/120 [==============================] - 39s 322ms/step - loss: 0.1059 - accuracy: 0.9817\n",
            "Epoch 92/100\n",
            "120/120 [==============================] - 38s 316ms/step - loss: 0.1038 - accuracy: 0.9825\n",
            "Epoch 93/100\n",
            "120/120 [==============================] - 38s 318ms/step - loss: 0.1017 - accuracy: 0.9804\n",
            "Epoch 94/100\n",
            "120/120 [==============================] - 37s 310ms/step - loss: 0.0994 - accuracy: 0.9812\n",
            "Epoch 95/100\n",
            "120/120 [==============================] - 37s 311ms/step - loss: 0.0974 - accuracy: 0.9837\n",
            "Epoch 96/100\n",
            "120/120 [==============================] - 36s 300ms/step - loss: 0.0954 - accuracy: 0.9854\n",
            "Epoch 97/100\n",
            "120/120 [==============================] - 38s 315ms/step - loss: 0.0929 - accuracy: 0.9850\n",
            "Epoch 98/100\n",
            "120/120 [==============================] - 37s 312ms/step - loss: 0.0919 - accuracy: 0.9825\n",
            "Epoch 99/100\n",
            "120/120 [==============================] - 37s 307ms/step - loss: 0.0895 - accuracy: 0.9837\n",
            "Epoch 100/100\n",
            "120/120 [==============================] - 35s 291ms/step - loss: 0.0884 - accuracy: 0.9858\n"
          ]
        },
        {
          "data": {
            "text/plain": [
              "<keras.callbacks.History at 0x7ff9d1ad35b0>"
            ]
          },
          "execution_count": 8,
          "metadata": {},
          "output_type": "execute_result"
        }
      ],
      "source": [
        "cnn_model.compile(optimizer=tf.keras.optimizers.SGD(learning_rate=1e-4),loss='sparse_categorical_crossentropy', metrics=['accuracy'])\n",
        "\n",
        "BATCH_SIZE = 20\n",
        "EPOCHS = 100\n",
        "\n",
        "cnn_model.fit(train_images, train_labels, batch_size=BATCH_SIZE, epochs=EPOCHS)"
      ]
    },
    {
      "cell_type": "code",
      "execution_count": null,
      "metadata": {
        "colab": {
          "base_uri": "https://localhost:8080/"
        },
        "id": "c72zYqFc8rlM",
        "outputId": "196b5d96-b6de-495e-b30e-e084c68112b0"
      },
      "outputs": [
        {
          "name": "stdout",
          "output_type": "stream",
          "text": [
            "19/19 [==============================] - 3s 142ms/step - loss: 0.0806 - accuracy: 0.9900\n",
            "[0. 0. 0. 0. 0. 0. 0. 0. 0. 0. 0. 0. 0. 0. 0. 0. 0. 0. 0. 0. 0. 0. 0. 0.\n",
            " 0. 0. 0. 0. 0. 0. 0. 0. 0. 0. 0. 0. 0. 0. 0. 0. 0. 0. 0. 0. 0. 0. 0. 0.\n",
            " 0. 0. 0. 0. 0. 0. 0. 0. 0. 0. 0. 0. 0. 0. 0. 0. 0. 0. 0. 0. 0. 0. 0. 0.\n",
            " 0. 0. 0. 0. 0. 0. 0. 0. 0. 0. 0. 0. 0. 0. 0. 0. 0. 0. 0. 0. 0. 0. 0. 0.\n",
            " 0. 0. 0. 0. 0. 0. 0. 0. 0. 0. 0. 0. 0. 0. 0. 0. 0. 0. 0. 0. 0. 0. 0. 0.\n",
            " 0. 0. 0. 0. 0. 0. 0. 0. 0. 0. 0. 0. 0. 0. 0. 0. 0. 0. 0. 0. 0. 0. 0. 0.\n",
            " 0. 0. 0. 0. 0. 0. 0. 0. 0. 0. 0. 0. 0. 0. 0. 0. 0. 0. 0. 0. 0. 0. 0. 0.\n",
            " 0. 0. 0. 0. 0. 0. 0. 0. 0. 0. 0. 0. 0. 0. 0. 0. 0. 0. 0. 0. 0. 0. 0. 0.\n",
            " 0. 0. 0. 0. 0. 0. 0. 0. 1. 1. 1. 1. 1. 1. 1. 1. 1. 1. 1. 1. 1. 1. 1. 1.\n",
            " 1. 1. 1. 1. 1. 1. 1. 1. 1. 1. 1. 1. 1. 1. 1. 1. 1. 1. 1. 1. 1. 1. 1. 1.\n",
            " 1. 1. 1. 1. 1. 1. 1. 1. 1. 1. 1. 1. 1. 1. 1. 1. 1. 1. 1. 1. 1. 1. 1. 1.\n",
            " 1. 1. 1. 1. 1. 1. 1. 1. 1. 1. 1. 1. 1. 1. 1. 1. 1. 1. 1. 1. 1. 1. 1. 1.\n",
            " 1. 1. 1. 1. 1. 1. 1. 1. 1. 1. 1. 1. 1. 1. 1. 1. 1. 1. 1. 1. 1. 1. 1. 1.\n",
            " 1. 1. 1. 1. 1. 1. 1. 1. 1. 1. 1. 1. 1. 1. 1. 1. 1. 1. 1. 1. 1. 1. 1. 1.\n",
            " 1. 1. 1. 1. 1. 1. 1. 1. 1. 1. 1. 1. 1. 1. 1. 1. 1. 1. 1. 1. 1. 1. 1. 1.\n",
            " 1. 1. 1. 1. 1. 1. 1. 1. 1. 1. 1. 1. 1. 1. 1. 1. 1. 1. 1. 1. 1. 1. 1. 1.\n",
            " 1. 1. 1. 1. 1. 1. 1. 1. 1. 1. 1. 1. 1. 1. 1. 1. 2. 2. 2. 2. 2. 2. 2. 2.\n",
            " 2. 2. 2. 2. 2. 2. 2. 2. 2. 2. 2. 2. 2. 2. 2. 2. 2. 2. 2. 2. 2. 2. 2. 2.\n",
            " 2. 2. 2. 2. 2. 2. 2. 2. 2. 2. 2. 2. 2. 2. 2. 2. 2. 2. 2. 2. 2. 2. 2. 2.\n",
            " 2. 2. 2. 2. 2. 2. 2. 2. 2. 2. 2. 2. 2. 2. 2. 2. 2. 2. 2. 2. 2. 2. 2. 2.\n",
            " 2. 2. 2. 2. 2. 2. 2. 2. 2. 2. 2. 2. 2. 2. 2. 2. 2. 2. 2. 2. 2. 2. 2. 2.\n",
            " 2. 2. 2. 2. 2. 2. 2. 2. 2. 2. 2. 2. 2. 2. 2. 2. 2. 2. 2. 2. 2. 2. 2. 2.\n",
            " 2. 2. 2. 2. 2. 2. 2. 2. 2. 2. 2. 2. 2. 2. 2. 2. 2. 2. 2. 2. 2. 2. 2. 2.\n",
            " 2. 2. 2. 2. 2. 2. 2. 2. 2. 2. 2. 2. 2. 2. 2. 2. 2. 2. 2. 2. 2. 2. 2. 2.\n",
            " 2. 2. 2. 2. 2. 2. 2. 2. 2. 2. 2. 2. 2. 2. 2. 2. 2. 2. 2. 2. 2. 2. 2. 2.]\n",
            "Test accuracy: 0.9900000095367432\n"
          ]
        }
      ],
      "source": [
        "test_loss, test_acc =  cnn_model.evaluate(test_images,test_labels)\n",
        "print(test_labels)\n",
        "\n",
        "print('Test accuracy:', test_acc)"
      ]
    },
    {
      "cell_type": "code",
      "execution_count": null,
      "metadata": {
        "colab": {
          "base_uri": "https://localhost:8080/",
          "height": 235
        },
        "id": "LbWS7jqMqypy",
        "outputId": "a3d207f7-d647-453d-a15f-b9f3282ecc6e"
      },
      "outputs": [
        {
          "ename": "NameError",
          "evalue": "ignored",
          "output_type": "error",
          "traceback": [
            "\u001b[0;31m---------------------------------------------------------------------------\u001b[0m",
            "\u001b[0;31mNameError\u001b[0m                                 Traceback (most recent call last)",
            "\u001b[0;32m<ipython-input-1-4271c3cb81dc>\u001b[0m in \u001b[0;36m<cell line: 1>\u001b[0;34m()\u001b[0m\n\u001b[0;32m----> 1\u001b[0;31m \u001b[0mpredictions\u001b[0m \u001b[0;34m=\u001b[0m \u001b[0mcnn_model\u001b[0m\u001b[0;34m.\u001b[0m\u001b[0mpredict\u001b[0m\u001b[0;34m(\u001b[0m\u001b[0mtest_images\u001b[0m\u001b[0;34m)\u001b[0m\u001b[0;34m\u001b[0m\u001b[0;34m\u001b[0m\u001b[0m\n\u001b[0m\u001b[1;32m      2\u001b[0m \u001b[0ma\u001b[0m\u001b[0;34m=\u001b[0m\u001b[0mrandom\u001b[0m\u001b[0;34m.\u001b[0m\u001b[0mrandint\u001b[0m\u001b[0;34m(\u001b[0m\u001b[0;36m0\u001b[0m\u001b[0;34m,\u001b[0m\u001b[0;36m600\u001b[0m\u001b[0;34m)\u001b[0m\u001b[0;34m\u001b[0m\u001b[0;34m\u001b[0m\u001b[0m\n\u001b[1;32m      3\u001b[0m \u001b[0mpredictions\u001b[0m\u001b[0;34m[\u001b[0m\u001b[0ma\u001b[0m\u001b[0;34m]\u001b[0m\u001b[0;34m\u001b[0m\u001b[0;34m\u001b[0m\u001b[0m\n\u001b[1;32m      4\u001b[0m \u001b[0mprediction\u001b[0m \u001b[0;34m=\u001b[0m \u001b[0mnp\u001b[0m\u001b[0;34m.\u001b[0m\u001b[0margmax\u001b[0m\u001b[0;34m(\u001b[0m\u001b[0mpredictions\u001b[0m\u001b[0;34m[\u001b[0m\u001b[0ma\u001b[0m\u001b[0;34m]\u001b[0m\u001b[0;34m)\u001b[0m\u001b[0;34m\u001b[0m\u001b[0;34m\u001b[0m\u001b[0m\n\u001b[1;32m      5\u001b[0m \u001b[0mprint\u001b[0m\u001b[0;34m(\u001b[0m\u001b[0mprediction\u001b[0m\u001b[0;34m)\u001b[0m\u001b[0;34m\u001b[0m\u001b[0;34m\u001b[0m\u001b[0m\n",
            "\u001b[0;31mNameError\u001b[0m: name 'cnn_model' is not defined"
          ]
        }
      ],
      "source": [
        "predictions = cnn_model.predict(test_images)\n",
        "a=random.randint(0,600)\n",
        "predictions[a]\n",
        "prediction = np.argmax(predictions[a])\n",
        "print(prediction)\n",
        "print(\"Label of this digit is:\", test_labels[a])\n",
        "plt.imshow(test_images[a,:,:,0], cmap='Blues')\n",
        "plt.axis('off')"
      ]
    }
  ],
  "metadata": {
    "accelerator": "GPU",
    "colab": {
      "provenance": []
    },
    "kernelspec": {
      "display_name": "Python 3",
      "name": "python3"
    },
    "language_info": {
      "codemirror_mode": {
        "name": "ipython",
        "version": 3
      },
      "file_extension": ".py",
      "mimetype": "text/x-python",
      "name": "python",
      "nbconvert_exporter": "python",
      "pygments_lexer": "ipython3",
      "version": "3.10.9"
    }
  },
  "nbformat": 4,
  "nbformat_minor": 0
}
