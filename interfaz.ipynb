{
 "cells": [
  {
   "cell_type": "code",
   "execution_count": 4,
   "metadata": {},
   "outputs": [
    {
     "ename": "RuntimeError",
     "evalue": "Too early to create image: no default root window",
     "output_type": "error",
     "traceback": [
      "\u001b[1;31m---------------------------------------------------------------------------\u001b[0m",
      "\u001b[1;31mRuntimeError\u001b[0m                              Traceback (most recent call last)",
      "Cell \u001b[1;32mIn[4], line 6\u001b[0m\n\u001b[0;32m      3\u001b[0m \u001b[39mdef\u001b[39;00m \u001b[39mmensaje\u001b[39m():\n\u001b[0;32m      4\u001b[0m     \u001b[39mprint\u001b[39m(\u001b[39m\"\u001b[39m\u001b[39mHola mundo\u001b[39m\u001b[39m\"\u001b[39m)\n\u001b[1;32m----> 6\u001b[0m imagen \u001b[39m=\u001b[39m  PhotoImage(file \u001b[39m=\u001b[39;49m \u001b[39mr\u001b[39;49m\u001b[39m\"\u001b[39;49m\u001b[39mC:/Users/GERSONSANCHEZ/Downloads/is0y_see7_201221.png\u001b[39;49m\u001b[39m\"\u001b[39;49m)\n\u001b[0;32m      8\u001b[0m ventana \u001b[39m=\u001b[39m Tk() \u001b[39m#creando el objeto ventana a partir del contructor\u001b[39;00m\n\u001b[0;32m      9\u001b[0m ventana\u001b[39m.\u001b[39mgeometry(\u001b[39m\"\u001b[39m\u001b[39m400x280\u001b[39m\u001b[39m\"\u001b[39m) \u001b[39m#definiendo el tamaño de la ventana\u001b[39;00m\n",
      "File \u001b[1;32mc:\\Users\\GERSONSANCHEZ\\AppData\\Local\\Programs\\Python\\Python311\\Lib\\tkinter\\__init__.py:4129\u001b[0m, in \u001b[0;36mPhotoImage.__init__\u001b[1;34m(self, name, cnf, master, **kw)\u001b[0m\n\u001b[0;32m   4124\u001b[0m \u001b[39mdef\u001b[39;00m \u001b[39m__init__\u001b[39m(\u001b[39mself\u001b[39m, name\u001b[39m=\u001b[39m\u001b[39mNone\u001b[39;00m, cnf\u001b[39m=\u001b[39m{}, master\u001b[39m=\u001b[39m\u001b[39mNone\u001b[39;00m, \u001b[39m*\u001b[39m\u001b[39m*\u001b[39mkw):\n\u001b[0;32m   4125\u001b[0m \u001b[39m    \u001b[39m\u001b[39m\"\"\"Create an image with NAME.\u001b[39;00m\n\u001b[0;32m   4126\u001b[0m \n\u001b[0;32m   4127\u001b[0m \u001b[39m    Valid resource names: data, format, file, gamma, height, palette,\u001b[39;00m\n\u001b[0;32m   4128\u001b[0m \u001b[39m    width.\"\"\"\u001b[39;00m\n\u001b[1;32m-> 4129\u001b[0m     Image\u001b[39m.\u001b[39;49m\u001b[39m__init__\u001b[39;49m(\u001b[39mself\u001b[39;49m, \u001b[39m'\u001b[39;49m\u001b[39mphoto\u001b[39;49m\u001b[39m'\u001b[39;49m, name, cnf, master, \u001b[39m*\u001b[39;49m\u001b[39m*\u001b[39;49mkw)\n",
      "File \u001b[1;32mc:\\Users\\GERSONSANCHEZ\\AppData\\Local\\Programs\\Python\\Python311\\Lib\\tkinter\\__init__.py:4062\u001b[0m, in \u001b[0;36mImage.__init__\u001b[1;34m(self, imgtype, name, cnf, master, **kw)\u001b[0m\n\u001b[0;32m   4060\u001b[0m \u001b[39mself\u001b[39m\u001b[39m.\u001b[39mname \u001b[39m=\u001b[39m \u001b[39mNone\u001b[39;00m\n\u001b[0;32m   4061\u001b[0m \u001b[39mif\u001b[39;00m master \u001b[39mis\u001b[39;00m \u001b[39mNone\u001b[39;00m:\n\u001b[1;32m-> 4062\u001b[0m     master \u001b[39m=\u001b[39m _get_default_root(\u001b[39m'\u001b[39;49m\u001b[39mcreate image\u001b[39;49m\u001b[39m'\u001b[39;49m)\n\u001b[0;32m   4063\u001b[0m \u001b[39mself\u001b[39m\u001b[39m.\u001b[39mtk \u001b[39m=\u001b[39m \u001b[39mgetattr\u001b[39m(master, \u001b[39m'\u001b[39m\u001b[39mtk\u001b[39m\u001b[39m'\u001b[39m, master)\n\u001b[0;32m   4064\u001b[0m \u001b[39mif\u001b[39;00m \u001b[39mnot\u001b[39;00m name:\n",
      "File \u001b[1;32mc:\\Users\\GERSONSANCHEZ\\AppData\\Local\\Programs\\Python\\Python311\\Lib\\tkinter\\__init__.py:319\u001b[0m, in \u001b[0;36m_get_default_root\u001b[1;34m(what)\u001b[0m\n\u001b[0;32m    317\u001b[0m \u001b[39mif\u001b[39;00m _default_root \u001b[39mis\u001b[39;00m \u001b[39mNone\u001b[39;00m:\n\u001b[0;32m    318\u001b[0m     \u001b[39mif\u001b[39;00m what:\n\u001b[1;32m--> 319\u001b[0m         \u001b[39mraise\u001b[39;00m \u001b[39mRuntimeError\u001b[39;00m(\u001b[39mf\u001b[39m\u001b[39m\"\u001b[39m\u001b[39mToo early to \u001b[39m\u001b[39m{\u001b[39;00mwhat\u001b[39m}\u001b[39;00m\u001b[39m: no default root window\u001b[39m\u001b[39m\"\u001b[39m)\n\u001b[0;32m    320\u001b[0m     root \u001b[39m=\u001b[39m Tk()\n\u001b[0;32m    321\u001b[0m     \u001b[39massert\u001b[39;00m _default_root \u001b[39mis\u001b[39;00m root\n",
      "\u001b[1;31mRuntimeError\u001b[0m: Too early to create image: no default root window"
     ]
    }
   ],
   "source": [
    "from tkinter import Tk,Label,Button,PhotoImage\n",
    "\n",
    "def mensaje():\n",
    "    print(\"Hola mundo\")\n",
    "\n",
    "\n",
    "\n",
    "ventana = Tk() #creando el objeto ventana a partir del contructor\n",
    "\n",
    "imagen = PhotoImage(file='C:\\Users\\GERSONSANCHEZ\\OneDrive - UNIVERSIDAD INDUSTRIAL DE SANTANDER\\Documents\\2023-1\\TRATAMIENTO DE SEñALES DISCRETAS O1\\proyecto-discretas\\fond0.png')\n",
    "\n",
    "fondo = Label(ventana, image=imagen)\n",
    "fondo.place(x=0, y=0, relwidth=1, relheight=1)\n",
    "\n",
    "\n",
    "ventana.title(\"Home\") #Nombre de la ventana\n",
    "\n",
    "ventana.mainloop()\n"
   ]
  }
 ],
 "metadata": {
  "kernelspec": {
   "display_name": "base",
   "language": "python",
   "name": "python3"
  },
  "language_info": {
   "codemirror_mode": {
    "name": "ipython",
    "version": 3
   },
   "file_extension": ".py",
   "mimetype": "text/x-python",
   "name": "python",
   "nbconvert_exporter": "python",
   "pygments_lexer": "ipython3",
   "version": "3.11.4"
  },
  "orig_nbformat": 4
 },
 "nbformat": 4,
 "nbformat_minor": 2
}
